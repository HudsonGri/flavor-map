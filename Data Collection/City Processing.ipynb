{
 "cells": [
  {
   "cell_type": "markdown",
   "id": "c4edee56-7e1b-4cc4-a768-65d7082415ca",
   "metadata": {},
   "source": [
    "This is the document used for processing the original city table. It takes the 'location' tag and converts it into the latitude and longitude needed for the API calls"
   ]
  },
  {
   "cell_type": "code",
   "execution_count": null,
   "id": "377cafbc-309c-4f77-a4dc-8b368ce3b9ed",
   "metadata": {
    "tags": []
   },
   "outputs": [],
   "source": [
    "import pandas as pd\n",
    "from dms2dec.dms_convert import dms2dec\n",
    "\n",
    "cities = pd.read_csv('data.csv')\n",
    "\n",
    "cities.at[0, 'location']"
   ]
  },
  {
   "cell_type": "code",
   "execution_count": null,
   "id": "b506e09e-9c56-4e12-8ad0-6e77e7b39872",
   "metadata": {
    "tags": []
   },
   "outputs": [],
   "source": [
    "cities['long'] = cities['location'].apply(convert)"
   ]
  },
  {
   "cell_type": "code",
   "execution_count": null,
   "id": "fe7884ff-dbe2-455f-8ea6-7be01c22f7c1",
   "metadata": {},
   "outputs": [],
   "source": [
    "cities"
   ]
  },
  {
   "cell_type": "code",
   "execution_count": null,
   "id": "49b30498-684a-4a18-9080-49b48edadb98",
   "metadata": {},
   "outputs": [],
   "source": [
    "def convert(l_string):\n",
    "    test = l_string.split('\\ufeff')[0].split(' ')\n",
    "    long = test[0]\n",
    "    lat = test[1]\n",
    "    long = dms2dec(long)\n",
    "    lat = dms2dec(lat)\n",
    "    return long"
   ]
  }
 ],
 "metadata": {
  "kernelspec": {
   "display_name": "Python 3 (ipykernel)",
   "language": "python",
   "name": "python3"
  },
  "language_info": {
   "codemirror_mode": {
    "name": "ipython",
    "version": 3
   },
   "file_extension": ".py",
   "mimetype": "text/x-python",
   "name": "python",
   "nbconvert_exporter": "python",
   "pygments_lexer": "ipython3",
   "version": "3.10.6"
  }
 },
 "nbformat": 4,
 "nbformat_minor": 5
}
