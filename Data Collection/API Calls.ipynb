{
 "cells": [
  {
   "cell_type": "markdown",
   "id": "812a452e-5d6c-423a-8eec-ff4e7d7ae7fb",
   "metadata": {
    "tags": []
   },
   "source": [
    "This is the file that makes all of the API calls and saves the information to a folder of csv files"
   ]
  },
  {
   "cell_type": "code",
   "execution_count": null,
   "id": "131b6034-903a-4950-b50f-fc155ff77c44",
   "metadata": {
    "tags": []
   },
   "outputs": [],
   "source": [
    "import googlemaps\n",
    "from dotenv import load_dotenv\n",
    "import os\n",
    "import time\n",
    "import pandas as pd\n",
    "from tqdm.notebook import tqdm\n",
    "import random\n",
    "\n",
    "load_dotenv()\n",
    "\n",
    "G_KEY = os.getenv('G_KEY')\n",
    "\n",
    "gmaps = googlemaps.Client(key=G_KEY)\n",
    "\n",
    "cities = pd.read_csv('data.csv')\n",
    "cities"
   ]
  },
  {
   "cell_type": "code",
   "execution_count": null,
   "id": "abca60b2-e745-46a1-9658-adc5851293de",
   "metadata": {},
   "outputs": [],
   "source": [
    "def getResults(lat, long, token=None):\n",
    "    if token != None:\n",
    "        request = gmaps.places_nearby(location=[lat, long], radius=50000, type='restaurant', page_token=token)\n",
    "    else:\n",
    "        request = gmaps.places_nearby(location=[lat, long], radius=50000, type='restaurant')\n",
    "    \n",
    "    try:\n",
    "        next_token = request['next_page_token']\n",
    "    except:\n",
    "        next_token = None\n",
    "    \n",
    "    results = request['results']\n",
    "        \n",
    "    return results, next_token"
   ]
  },
  {
   "cell_type": "code",
   "execution_count": null,
   "id": "c9bb9f7f-3eaa-4378-9906-de54ca5451f7",
   "metadata": {},
   "outputs": [],
   "source": [
    "def getCity(lat, long, name):\n",
    "    t0 = time.time()\n",
    "\n",
    "    print(f'Processing {name} ...', end =\" \")\n",
    "    \n",
    "    if os.path.exists(f'cities/{name}.csv'):\n",
    "        df = pd.read_csv(f'cities/{name}.csv')\n",
    "        print(f'already exists, Mean = {round(df[\"rating\"].mean(), 3)}')\n",
    "        return\n",
    "    \n",
    "    final_results = []\n",
    "\n",
    "    results, next_token = getResults(lat, long)\n",
    "    final_results+=results\n",
    "    \n",
    "    for i in range(1, 30):\n",
    "        time.sleep(2)\n",
    "        results, next_token = getResults(lat, long, next_token)\n",
    "        final_results+=results\n",
    "        if next_token == None:\n",
    "            break\n",
    "            \n",
    "            \n",
    "    #Trying slightly different location\n",
    "    \n",
    "    differences = [-0.1, 0.1, -0.2, 0.2]\n",
    "    for diff in differences :\n",
    "        new_lat = lat+diff\n",
    "        new_long = long+diff\n",
    "        \n",
    "        results, next_token = getResults(new_lat, new_long)\n",
    "        final_results+=results\n",
    "        \n",
    "        for i in range(1, 30):\n",
    "            time.sleep(2)\n",
    "            results, next_token = getResults(new_lat, new_long, next_token)\n",
    "            final_results+=results\n",
    "            if next_token == None:\n",
    "                break\n",
    "    \n",
    "    # Removing duplicates\n",
    "    res = [i for n, i in enumerate(final_results) if i not in final_results[n + 1:]]\n",
    "\n",
    "    df = pd.DataFrame(res)\n",
    "    df.to_csv(f'cities/{name}.csv', index=False)\n",
    "    \n",
    "    t1 = time.time()\n",
    "    print(f'Sucess with #{len(res)} results in {round(toal,2)} seconds. Mean = {round(df[\"rating\"].mean(), 3)}')\n",
    "        "
   ]
  },
  {
   "cell_type": "code",
   "execution_count": null,
   "id": "791ec10e-3a34-49ba-adab-74a7c93b8647",
   "metadata": {
    "tags": []
   },
   "outputs": [],
   "source": [
    "\n",
    "\n",
    "size = 331\n",
    "\n",
    "# Iterate through table\n",
    "for index, row in tqdm(cities[:size].iterrows(), total=size):\n",
    "    lat = row['lat']\n",
    "    long = row['long']\n",
    "    name = row['city']\n",
    "    getCity(lat, long, name)"
   ]
  },
  {
   "cell_type": "code",
   "execution_count": null,
   "id": "f9fefe44-ffe6-42cc-959a-8b672f67e99e",
   "metadata": {},
   "outputs": [],
   "source": []
  }
 ],
 "metadata": {
  "kernelspec": {
   "display_name": "Python 3 (ipykernel)",
   "language": "python",
   "name": "python3"
  },
  "language_info": {
   "codemirror_mode": {
    "name": "ipython",
    "version": 3
   },
   "file_extension": ".py",
   "mimetype": "text/x-python",
   "name": "python",
   "nbconvert_exporter": "python",
   "pygments_lexer": "ipython3",
   "version": "3.10.6"
  }
 },
 "nbformat": 4,
 "nbformat_minor": 5
}
