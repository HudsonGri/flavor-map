{
 "cells": [
  {
   "cell_type": "markdown",
   "id": "a682e7a2-9041-47db-ad56-bcbbce46485c",
   "metadata": {
    "tags": []
   },
   "source": [
    "This is the code to process the output given by our C++ sorting algorithms. It also converts some of the data into a .js to be read by our React site"
   ]
  },
  {
   "cell_type": "code",
   "execution_count": null,
   "id": "ed996237-e8a7-4fe2-83c5-fb015943b723",
   "metadata": {
    "tags": []
   },
   "outputs": [],
   "source": [
    "sorted_res = {}\n",
    "with open('sorted_output.txt') as topo_file:\n",
    "    for line in topo_file:\n",
    "        line = line.strip()\n",
    "        if \"City name\" in line:\n",
    "            city_name = line.split('City name ')[1]\n",
    "            print(city_name)\n",
    "            sorted_res[city_name+'_radix'] = []\n",
    "            sorted_res[city_name+'_merge'] = []\n",
    "            print()\n",
    "        if \"Merge\" in line:\n",
    "            sort = 'merge'\n",
    "        if '# of reviews ' in line:\n",
    "            review_count = line.split('# of reviews ')[1].split(' microseconds')[0]\n",
    "            sorted_res[city_name+'_'+sort].append(review_count)\n",
    "            print('Review_count = ' + review_count)\n",
    "        if 'Prices ' in line:\n",
    "            prices = line.split('Prices ')[1].split(' microseconds')[0]\n",
    "            sorted_res[city_name+'_'+sort].append(prices)\n",
    "            print('Prices = ' + prices)\n",
    "        if 'Ratings ' in line:\n",
    "            ratings = line.split('Ratings ')[1].split(' microseconds')[0]\n",
    "            sorted_res[city_name+'_'+sort].append(ratings)\n",
    "            print('Ratings = ' + ratings)\n",
    "            print()\n",
    "        if \"Radix\" in line:\n",
    "            sort = 'radix'\n",
    "        \n",
    "                            "
   ]
  },
  {
   "cell_type": "code",
   "execution_count": null,
   "id": "79f644ad-c05c-47c8-9c25-0b100db0706c",
   "metadata": {
    "tags": []
   },
   "outputs": [],
   "source": [
    "#num_reviews, prices, ratings\n",
    "\n",
    "sorted_final = {}\n",
    "\n",
    "for key, value in sorted_res.items():\n",
    "    key = key.split('_')\n",
    "    name = key[0]\n",
    "    sort_type = key[1]\n",
    "    if (name in sorted_final):\n",
    "        sorted_final[name][sort_type] = value\n",
    "    else: \n",
    "        sorted_final[name] = {sort_type: value}\n",
    "sorted_final"
   ]
  },
  {
   "cell_type": "code",
   "execution_count": null,
   "id": "1834391f-22eb-46b9-a300-4443997f6e87",
   "metadata": {
    "tags": []
   },
   "outputs": [],
   "source": [
    "import pandas as pd\n",
    "import os\n",
    "\n",
    "data = pd.read_csv('data.csv')\n",
    "data['city'] = data['city'].apply(remove)\n",
    "\n",
    "def remove(city):\n",
    "    if \"[\" in city:\n",
    "        city = city.split('[')[0]\n",
    "    return city\n",
    "\n",
    "\n",
    "\n",
    "\n",
    "total = 0\n",
    "res = 0\n",
    "ex = []\n",
    "\n",
    "test = {}\n",
    "\n",
    "for filename in os.listdir('cities'):\n",
    "    if 'csv' in filename:\n",
    "        sorts = {}\n",
    "        df = pd.read_csv(f'cities/{filename}')\n",
    "        city = filename.split('.csv')[0]\n",
    "        price_mean = df['price_level'].mean()\n",
    "        rating_mean = df['rating'].mean()\n",
    "        user_ratings_total_mean = df['user_ratings_total'].mean()\n",
    "        data.loc[data['city'] == city, 'price_mean'] = price_mean\n",
    "        data.loc[data['city'] == city, 'rating_mean'] = rating_mean\n",
    "        data.loc[data['city'] == city, 'user_ratings_total_mean'] = user_ratings_total_mean\n",
    "        data.loc[data['city'] == city, 'restaurants_tracked'] = len(df)\n",
    "        df1 = df[['name', 'price_level', 'rating', 'user_ratings_total', 'vicinity']]\n",
    "        \n",
    "        df1 = df1.fillna(0)\n",
    "        city_json = df1.to_dict('records')\n",
    "        list_city = list(city_json)\n",
    "        test[city] = [dict(t) for t in {tuple(d.items()) for d in list_city}]\n",
    "        res_tracked = len(df)\n",
    "        \n",
    "        data = data.sort_values(by=['price_mean'], ascending=True)\n",
    "        \n",
    "        "
   ]
  },
  {
   "cell_type": "code",
   "execution_count": null,
   "id": "e5718710-ab7f-49b2-86b0-39929206fea8",
   "metadata": {
    "tags": []
   },
   "outputs": [],
   "source": [
    "f = open(\"all_data.js\", \"w\")\n",
    "f.write(json.dumps(test, indent = 1))\n",
    "f.close()"
   ]
  },
  {
   "cell_type": "code",
   "execution_count": null,
   "id": "191fa6dc-c7e6-49fe-a686-c3eb46407829",
   "metadata": {
    "tags": []
   },
   "outputs": [],
   "source": [
    "data['city'] = data['city'].apply(remove)\n",
    "data.to_json('everything.json', orient='records' ,index=True)\n",
    "data"
   ]
  },
  {
   "cell_type": "code",
   "execution_count": null,
   "id": "a903e69b-3513-400a-b47f-e74b508440bc",
   "metadata": {},
   "outputs": [],
   "source": [
    "# https://notebook.community/captainsafia/nteract/applications/desktop/example-notebooks/pandas-to-geojson\n",
    "# This code is from the above link ^^^\n",
    "\n",
    "def df_to_geojson(df, properties, lat='lat', lon='long'):\n",
    "    # create a new python dict to contain our geojson data, using geojson format\n",
    "    geojson = {'type':'FeatureCollection', 'features':[]}\n",
    "\n",
    "    # loop through each row in the dataframe and convert each row to geojson format\n",
    "    for _, row in df.iterrows():\n",
    "        # create a feature template to fill in\n",
    "        feature = {'type':'Feature',\n",
    "                   'properties':{},\n",
    "                   'geometry':{'type':'Point',\n",
    "                               'coordinates':[]}}\n",
    "\n",
    "        # fill in the coordinates\n",
    "        feature['geometry']['coordinates'] = [row[lon],row[lat]]\n",
    "\n",
    "        # for each column, get the value and add it as a new feature property\n",
    "        for prop in properties:\n",
    "            feature['properties'][prop] = row[prop]\n",
    "        \n",
    "        \n",
    "        # add this feature (aka, converted dataframe row) to the list of features inside our dict\n",
    "        geojson['features'].append(feature)\n",
    "    \n",
    "    return geojson\n",
    "\n",
    "import json\n",
    "\n",
    "res =json.dumps( df_to_geojson(data, ['city', 'state', 'price_mean', 'rating_mean', 'user_ratings_total_mean', 'restaurants_tracked']), indent=2)\n",
    "\n",
    "with open('map.geojson', 'w') as f:\n",
    "    f.write(res)"
   ]
  }
 ],
 "metadata": {
  "kernelspec": {
   "display_name": "Python 3 (ipykernel)",
   "language": "python",
   "name": "python3"
  },
  "language_info": {
   "codemirror_mode": {
    "name": "ipython",
    "version": 3
   },
   "file_extension": ".py",
   "mimetype": "text/x-python",
   "name": "python",
   "nbconvert_exporter": "python",
   "pygments_lexer": "ipython3",
   "version": "3.10.6"
  }
 },
 "nbformat": 4,
 "nbformat_minor": 5
}
